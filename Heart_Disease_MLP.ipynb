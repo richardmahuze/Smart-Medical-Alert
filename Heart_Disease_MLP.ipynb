{
 "cells": [
  {
   "cell_type": "code",
   "execution_count": 1,
   "metadata": {},
   "outputs": [],
   "source": [
    "import pandas as pd # data processing, CSV file I/O (e.g. pd.read_csv)\n",
    "\n"
   ]
  },
  {
   "cell_type": "code",
   "execution_count": 2,
   "metadata": {},
   "outputs": [],
   "source": [
    "heart_statlog = pd.read_csv(\"C:/Users/icadm/Downloads/dataset_53_heart-statlog.csv\")\n"
   ]
  },
  {
   "cell_type": "code",
   "execution_count": 3,
   "metadata": {},
   "outputs": [],
   "source": [
    "import matplotlib.pyplot as plt\n",
    "import seaborn as sns\n",
    "\n",
    "Heart_Disease = pd.get_dummies(heart_statlog['class'], drop_first=True)\n"
   ]
  },
  {
   "cell_type": "code",
   "execution_count": 4,
   "metadata": {},
   "outputs": [],
   "source": [
    "heart_statlog = pd.concat([heart_statlog, Heart_Disease], axis=1)\n",
    "\n",
    "heart_statlog.drop('class', axis=1, inplace=True)\n",
    "\n",
    "y = heart_statlog.present.copy() # copy \"y\" column values out\n",
    "\n",
    "X = heart_statlog.drop(['present'], axis=1) # drop y column\n",
    "\n",
    "X.drop(['serum_cholestoral'], axis=1, inplace=True) # dropping unnecessary columns\n",
    "\n",
    "X.drop(['chest'], axis=1, inplace=True)\n",
    "\n",
    "X.drop(['fasting_blood_sugar'], axis=1, inplace=True)\n",
    "\n",
    "X.drop(['resting_electrocardiographic_results'], axis=1, inplace=True)\n",
    "\n",
    "X.drop(['exercise_induced_angina'], axis=1, inplace=True)\n",
    "\n",
    "X.drop(['oldpeak'], axis=1, inplace=True)\n",
    "\n",
    "X.drop(['slope'], axis=1, inplace=True)\n",
    "\n",
    "X.drop(['number_of_major_vessels'], axis=1, inplace=True)\n",
    "\n",
    "X.drop(['thal'], axis=1, inplace=True)\n",
    "\n",
    "optimal_hr_min = X['maximum_heart_rate_achieved'].apply(lambda x: x*0.5)   # finding the minimum of the optimal HR\n",
    "\n",
    "optimal_hr_max = X['maximum_heart_rate_achieved'].apply(lambda x: x*0.85)   # finding the maximum of the optimal HR\n",
    "\n",
    "X = pd.concat([X, optimal_hr_min, optimal_hr_max], axis=1)\n",
    "\n",
    "X.columns = ['age', 'sex', 'resting_blood_pressure', 'maximum_heart_rate_achieved', 'optimal_hr_min', 'optimal_hr_max']\n",
    "\n",
    "X['hr_range'] = X['optimal_hr_max'] - X['optimal_hr_min']"
   ]
  },
  {
   "cell_type": "code",
   "execution_count": 6,
   "metadata": {},
   "outputs": [
    {
     "name": "stdout",
     "output_type": "stream",
     "text": [
      "Iteration 1, loss = inf\n",
      "Iteration 2, loss = 61.00613294\n",
      "Iteration 3, loss = 16.08155985\n",
      "Iteration 4, loss = 8.46120206\n",
      "Iteration 5, loss = 3.45023395\n",
      "Iteration 6, loss = 2.23249897\n",
      "Iteration 7, loss = 1.03434463\n",
      "Iteration 8, loss = 0.79758728\n",
      "Iteration 9, loss = 4.37720893\n",
      "Iteration 10, loss = 3.22445879\n",
      "Iteration 11, loss = 0.71105228\n",
      "Iteration 12, loss = 1.19608165\n",
      "Iteration 13, loss = 0.67648525\n",
      "Iteration 14, loss = 0.64845500\n",
      "Iteration 15, loss = 0.69072942\n",
      "Iteration 16, loss = 0.69264922\n",
      "Iteration 17, loss = 0.70006069\n",
      "Iteration 18, loss = 1.47798799\n",
      "Iteration 19, loss = 0.64086182\n",
      "Iteration 20, loss = 1.18321006\n",
      "Iteration 21, loss = 1.21641674\n",
      "Iteration 22, loss = 0.63178587\n",
      "Iteration 23, loss = 1.14561772\n",
      "Iteration 24, loss = 0.91613090\n",
      "Iteration 25, loss = 0.63511201\n",
      "Iteration 26, loss = 0.64565455\n",
      "Iteration 27, loss = 0.63176599\n",
      "Iteration 28, loss = 0.62646255\n",
      "Iteration 29, loss = 0.68228562\n",
      "Iteration 30, loss = 0.71696306\n",
      "Iteration 31, loss = 0.61832289\n",
      "Iteration 32, loss = 0.77536054\n",
      "Iteration 33, loss = 0.96738373\n",
      "Iteration 34, loss = 1.02199086\n",
      "Iteration 35, loss = 0.70364338\n",
      "Iteration 36, loss = 0.71551717\n",
      "Iteration 37, loss = 0.86275085\n",
      "Iteration 38, loss = 0.70482162\n",
      "Iteration 39, loss = 0.65808106\n",
      "Iteration 40, loss = 0.65295716\n",
      "Iteration 41, loss = 0.65141939\n",
      "Iteration 42, loss = 0.65521675\n",
      "Training loss did not improve more than tol=0.000000 for 10 consecutive epochs. Stopping.\n"
     ]
    },
    {
     "data": {
      "image/png": "[encoded data removed]",
      "text/plain": [
       "<Figure size 432x288 with 2 Axes>"
      ]
     },
     "metadata": {
      "needs_background": "light"
     },
     "output_type": "display_data"
    },
    {
     "name": "stdout",
     "output_type": "stream",
     "text": [
      "              precision    recall  f1-score   support\n",
      "\n",
      "           0       0.79      0.77      0.78        35\n",
      "           1       0.76      0.79      0.78        33\n",
      "\n",
      "    accuracy                           0.78        68\n",
      "   macro avg       0.78      0.78      0.78        68\n",
      "weighted avg       0.78      0.78      0.78        68\n",
      "\n"
     ]
    }
   ],
   "source": [
    "\n",
    "from sklearn.neural_network import MLPClassifier\n",
    "from sklearn.model_selection import train_test_split\n",
    "from sklearn.metrics import accuracy_score\n",
    "from sklearn.metrics import confusion_matrix\n",
    "\n",
    "\n",
    "\n",
    "y = heart_statlog['present']\n",
    "x = heart_statlog.drop(['present'], axis=1)\n",
    "\n",
    "x_train, x_test, y_train, y_test = train_test_split(x,y, test_size= 0.25, random_state=27)\n",
    "\n",
    "clf = MLPClassifier(hidden_layer_sizes=(100,100,100), max_iter=500, alpha=0.0001,\n",
    "                     solver='sgd', verbose=10,  random_state=21,tol=0.000000001)\n",
    "\n",
    "\n",
    "clf.fit(x_train, y_train)\n",
    "y_pred = clf.predict(x_test)\n",
    "\n",
    "accuracy_score(y_test, y_pred)\n",
    "\n",
    "cm = confusion_matrix(y_test, y_pred)\n",
    "cm\n",
    "\n",
    "sns.heatmap(cm, center=True)\n",
    "plt.show()\n",
    "\n",
    "from sklearn.metrics import classification_report\n",
    "\n",
    "print(classification_report(y_test,y_pred))"
   ]
  },
  {
   "cell_type": "code",
   "execution_count": null,
   "metadata": {},
   "outputs": [],
   "source": []
  },
  {
   "cell_type": "code",
   "execution_count": null,
   "metadata": {},
   "outputs": [],
   "source": []
  }
 ],
 "metadata": {
  "kernelspec": {
   "display_name": "Python 3",
   "language": "python",
   "name": "python3"
  },
  "language_info": {
   "codemirror_mode": {
    "name": "ipython",
    "version": 3
   },
   "file_extension": ".py",
   "mimetype": "text/x-python",
   "name": "python",
   "nbconvert_exporter": "python",
   "pygments_lexer": "ipython3",
   "version": "3.7.4"
  }
 },
 "nbformat": 4,
 "nbformat_minor": 2
}
